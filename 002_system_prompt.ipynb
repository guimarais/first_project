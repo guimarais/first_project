{
 "cells": [
  {
   "cell_type": "code",
   "execution_count": 1,
   "id": "e7d01f52",
   "metadata": {},
   "outputs": [],
   "source": [
    "from dotenv import load_dotenv\n",
    "load_dotenv()\n",
    "\n",
    "from anthropic import Anthropic\n",
    "\n",
    "from helpers import add_user_message\n",
    "from helpers import add_assistant_message\n",
    "from helpers import chat\n",
    "\n",
    "from IPython.display import Markdown\n",
    "\n",
    "client = Anthropic()\n",
    "model = \"claude-sonnet-4-0\"\n"
   ]
  },
  {
   "cell_type": "code",
   "execution_count": 2,
   "id": "347040fb",
   "metadata": {},
   "outputs": [
    {
     "data": {
      "text/markdown": [
       "```python\n",
       "def has_duplicates(s):\n",
       "    return len(s) != len(set(s))\n",
       "```\n",
       "\n",
       "This function converts the string to a set (removing duplicates) and compares lengths. If they differ, duplicates exist."
      ],
      "text/plain": [
       "<IPython.core.display.Markdown object>"
      ]
     },
     "execution_count": 2,
     "metadata": {},
     "output_type": "execute_result"
    }
   ],
   "source": [
    "messages = []\n",
    "\n",
    "add_user_message(\n",
    "    messages,\n",
    "    \"Write a python function that checks a string for duplicate characters.\"\n",
    ")\n",
    "\n",
    "answer = chat(messages,\n",
    "              client,\n",
    "              model,\n",
    "              system=\"You are a Python engineer that runs very concise code.\")\n",
    "\n",
    "Markdown(answer)\n",
    "\n"
   ]
  }
 ],
 "metadata": {
  "kernelspec": {
   "display_name": "first-project",
   "language": "python",
   "name": "python3"
  },
  "language_info": {
   "codemirror_mode": {
    "name": "ipython",
    "version": 3
   },
   "file_extension": ".py",
   "mimetype": "text/x-python",
   "name": "python",
   "nbconvert_exporter": "python",
   "pygments_lexer": "ipython3",
   "version": "3.11.4"
  }
 },
 "nbformat": 4,
 "nbformat_minor": 5
}
